{
 "cells": [
  {
   "cell_type": "code",
   "execution_count": 6,
   "metadata": {
    "collapsed": false
   },
   "outputs": [],
   "source": [
    "%matplotlib inline\n",
    "from spectral_density_functions import *\n",
    "from spectral_density_functions import S_k_omega, convolve, S_k_omega_conv\n",
    "import matplotlib.pyplot as plt\n",
    "import numpy as np\n",
    "from scipy.signal import gaussian"
   ]
  },
  {
   "cell_type": "code",
   "execution_count": 70,
   "metadata": {
    "collapsed": false,
    "scrolled": true
   },
   "outputs": [],
   "source": [
    "l0=532e-9\n",
    "bp=100e-9\n",
    "n_points=4e4\n",
    "l=np.linspace(l0-bp/2,l0+bp/2,n_points)\n",
    "FWHM=0.2e-10*4\n",
    "response=gaussian(n_points,FWHM/(bp/n_points))\n",
    "\n",
    "'''Plasma Parameters'''\n",
    "n_e=5e17#cm^-3\n",
    "A=12#Ion mass\n",
    "T_i=500#in eV\n",
    "T_e=100#in eV\n",
    "Z=Z_nLTE(T_e, np.genfromtxt('zb_Spk_C_NLTE.txt', delimiter='       ', skip_header=4))\n",
    "V=0\n",
    "\n",
    "theta=45#degrees\n",
    "\n",
    "skw=S_k_omega_conv(l, l0, response, theta, A, T_e,T_i,n_e,Z,v_fi=V)\n",
    "\n",
    "lambda_De=7.43*(T_e/n_e)**0.5 #in m\n",
    "k=4*np.pi*np.sin(theta/2.0)/l0\n",
    "alpha=np.abs(1/(k*lambda_De))"
   ]
  },
  {
   "cell_type": "code",
   "execution_count": 71,
   "metadata": {
    "collapsed": false
   },
   "outputs": [
    {
     "data": {
      "text/plain": [
       "<matplotlib.text.Text at 0x8ed0cc0>"
      ]
     },
     "execution_count": 71,
     "metadata": {},
     "output_type": "execute_result"
    },
    {
     "data": {
      "image/png": "[encoded data removed]",
      "text/plain": [
       "<matplotlib.figure.Figure at 0xae01320>"
      ]
     },
     "metadata": {},
     "output_type": "display_data"
    }
   ],
   "source": [
    "fig, ax=plt.subplots(figsize=(12,8))\n",
    "ax.plot((l-l0)*1e10, skw, lw=3)\n",
    "ax.plot((l-l0)*1e10, skw*1e1, lw=3)\n",
    "ax.set_ylim([0,1])\n",
    "ax.set_title(r'$\\alpha= $'+str(round(alpha,1)), fontsize=20)"
   ]
  },
  {
   "cell_type": "code",
   "execution_count": 7,
   "metadata": {
    "collapsed": false
   },
   "outputs": [
    {
     "data": {
      "text/plain": [
       "20.000000000000004"
      ]
     },
     "execution_count": 7,
     "metadata": {},
     "output_type": "execute_result"
    }
   ],
   "source": [
    "FWHM/(bp/n_points)"
   ]
  },
  {
   "cell_type": "code",
   "execution_count": 9,
   "metadata": {
    "collapsed": false
   },
   "outputs": [
    {
     "data": {
      "text/plain": [
       "[<matplotlib.lines.Line2D at 0x92564e0>]"
      ]
     },
     "execution_count": 9,
     "metadata": {},
     "output_type": "execute_result"
    },
    {
     "data": {
      "image/png": "[encoded data removed]",
      "text/plain": [
       "<matplotlib.figure.Figure at 0x8fee588>"
      ]
     },
     "metadata": {},
     "output_type": "display_data"
    }
   ],
   "source": [
    "gaussian(10000,200)"
   ]
  },
  {
   "cell_type": "code",
   "execution_count": null,
   "metadata": {
    "collapsed": true
   },
   "outputs": [],
   "source": [
    "def S_k_omega(lambda_range, lambda_in, theta, A, T_e,T_i,n_e,Z, v_fi=0, v_fe=0):\n",
    "    '''\n",
    "    Returns a normalised spectral density function.\n",
    "    Implements the model of Sheffield (2nd Ed.)\n",
    "    One ion, one electron species with independent temeperatures\n",
    "    Electron velocity is with respect to ion velocity\n",
    "    Returns S(k,w) for each wavelength in lambda_range assuming\n",
    "    input wavelength lambda_in. Both in metres\n",
    "    Theta is angle between k_in and k_s in degrees\n",
    "    A i atomic mass, Z is ion charge\n",
    "    T_e, T_i in eV, n_e in cm^-3\n",
    "    V_fi and V_fe in m/s\n",
    "    '''\n",
    "    #physical parameters\n",
    "    pi=np.pi\n",
    "    m_i=m_p*A\n",
    "    om_pe=5.64e4*n_e**0.5#electron plasma frequency\n",
    "    #define omega and k as in Sheffield 113\n",
    "    ki=2*pi/lambda_in\n",
    "    omega_i=((c*ki)**2+om_pe**2)**0.5\n",
    "\n",
    "    ks=2*pi/lambda_range\n",
    "    omega_s=((c*ks)**2+om_pe**2)**0.5\n",
    "    \n",
    "    th=theta/180.0*np.pi#convert to radians for cosine function\n",
    "    k=(ks**2+ki**2-2*ks*ki*np.cos(th))**0.5\n",
    "    omega=omega_s-omega_i\n",
    "    \n",
    "    #define dimensionless parameters ala Sheffield\n",
    "    a=sqrt(2*e*T_e/m_e)\n",
    "    b=sqrt(2*e*T_i/m_i)\n",
    "    x_e=(omega/k+v_fe+v_fi)/a\n",
    "    x_i=(omega/k+v_fi)/b\n",
    "    lambda_De=7.43*(T_e/n_e)**0.5 #Debeye length in m\n",
    "    #the all important alpha parameter\n",
    "    alpha=1/(k*lambda_De)\n",
    "    #set up the Fadeeva function\n",
    "    w=scipy.special.wofz\n",
    "    chi_i=alpha**2*Z*T_e/T_i*(1+1j*sqrt(pi)*x_i*w(x_i)) #ion susceptibility\n",
    "    chi_e=alpha**2*(1+1j*sqrt(pi)*x_e*w(x_e))#electron susceptibility\n",
    "    epsilon=1+chi_e+chi_i#dielectric function\n",
    "    fe0=1/(sqrt(pi)*a)*np.exp(-x_e**2)#electron Maxwellian function\n",
    "    fi0=1/(sqrt(pi)*b)*np.exp(-x_i**2)#ion Maxwellian\n",
    "    Skw=2*pi/k*(abs(1-chi_e/epsilon)**2*fe0+Z*abs(chi_e/epsilon)**2*fi0)\n",
    "    return Skw/Skw.max() #normalise the spectrum"
   ]
  }
 ],
 "metadata": {
  "kernelspec": {
   "display_name": "Python 3",
   "language": "python",
   "name": "python3"
  },
  "language_info": {
   "codemirror_mode": {
    "name": "ipython",
    "version": 3
   },
   "file_extension": ".py",
   "mimetype": "text/x-python",
   "name": "python",
   "nbconvert_exporter": "python",
   "pygments_lexer": "ipython3",
   "version": "3.4.3"
  }
 },
 "nbformat": 4,
 "nbformat_minor": 0
}
