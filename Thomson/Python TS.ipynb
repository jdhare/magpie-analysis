{
 "cells": [
  {
   "cell_type": "code",
   "execution_count": 1,
   "metadata": {
    "collapsed": false
   },
   "outputs": [],
   "source": [
    "%matplotlib inline\n",
    "import numpy as np\n",
    "from numpy import sqrt\n",
    "import scipy.constants\n",
    "import matplotlib.pyplot as plt\n",
    "import scipy.special\n",
    "import os\n",
    "\n",
    "m_e=scipy.constants.m_e\n",
    "m_p=scipy.constants.m_p\n",
    "e=scipy.constants.e\n",
    "c=scipy.constants.c\n",
    "\n",
    "def S_k_omega(lambda_range, lambda_in, theta, A, T_e,T_i,n_e,Z, v_fi=0, v_fe=0):\n",
    "    '''\n",
    "    Returns a normalised spectral density function.\n",
    "    Implements the model of Sheffield (2nd Ed.)\n",
    "    One ion, one electron species with independent temeperatures\n",
    "    Electron velocity is with respect to ion velocity\n",
    "    Returns S(k,w) for each wavelength in lambda_range assuming\n",
    "    input wavelength lambda_in. Both in metres\n",
    "    Theta is angle between k_in and k_s in degrees\n",
    "    A i atomic mass, Z is ion charge\n",
    "    T_e, T_i in eV, n_e in cm^-3\n",
    "    V_fi and V_fe in m/s\n",
    "    '''\n",
    "    #physical parameters\n",
    "    pi=np.pi\n",
    "    m_i=m_p*A\n",
    "    om_pe=5.64e4*n_e**0.5#electron plasma frequency\n",
    "    #define omega and k as in Sheffield 113\n",
    "    ki=2*pi/lambda_in\n",
    "    omega_i=((c*ki)**2+om_pe**2)**0.5\n",
    "\n",
    "    ks=2*pi/lambda_range\n",
    "    omega_s=((c*ks)**2+om_pe**2)**0.5\n",
    "    \n",
    "    th=theta/180.0*np.pi#convert to radians for cosine function\n",
    "    k=(ks**2+ki**2-2*ks*ki*np.cos(th))**0.5\n",
    "    omega=omega_s-omega_i\n",
    "    \n",
    "    #define dimensionless parameters ala Sheffield\n",
    "    a=sqrt(2*e*T_e/m_e)\n",
    "    b=sqrt(2*e*T_i/m_i)\n",
    "    x_e=(omega/k+v_fe+v_fi)/a\n",
    "    x_i=(omega/k+v_fi)/b\n",
    "    lambda_De=7.43*(T_e/n_e)**0.5 #Debeye length in m\n",
    "    #the all important alpha parameter\n",
    "    alpha=1/(k*lambda_De)\n",
    "    #set up the Fadeeva function\n",
    "    w=scipy.special.wofz\n",
    "    chi_i=alpha**2*Z*T_e/T_i*(1+1j*sqrt(pi)*x_i*w(x_i)) #ion susceptibility\n",
    "    chi_e=alpha**2*(1+1j*sqrt(pi)*x_e*w(x_e))#electron susceptibility\n",
    "    epsilon=1+chi_e+chi_i#dielectric function\n",
    "    fe0=1/(sqrt(pi)*a)*np.exp(-x_e**2)#electron Maxwellian function\n",
    "    fi0=1/(sqrt(pi)*b)*np.exp(-x_i**2)#ion Maxwellian\n",
    "    Skw=2*pi/k*abs(1-chi_e/epsilon)**2*fe0+Z*abs(chi_e/epsilon)**2*fi0\n",
    "    return k, Skw/Skw.max() #normalise the spectrum"
   ]
  },
  {
   "cell_type": "code",
   "execution_count": 5,
   "metadata": {
    "collapsed": false
   },
   "outputs": [],
   "source": [
    "def S_k_omega_nu(lambda_range, lambda_in, theta, A, T_e,T_i,n_e,Z,v_fi=0, v_fe=0, nu_i=None, nu_e=None):\n",
    "    '''\n",
    "    Returns a normalised spectral density function.\n",
    "    Implements the model of Sheffield (2nd Ed.)\n",
    "    One ion, one electron species with independent temeperatures\n",
    "    Electron velocity is with respect to ion velocity\n",
    "    Returns S(k,w) for each wavelength in lambda_range assuming\n",
    "    input wavelength lambda_in. Both in metres\n",
    "    Theta is angle between k_in and k_s in degrees\n",
    "    A i atomic mass, Z is ion charge\n",
    "    T_e, T_i in eV, n_e in cm^-3\n",
    "    V_fi and V_fe in m/s\n",
    "    '''\n",
    "    #physical parameters\n",
    "    pi=np.pi\n",
    "    m_i=m_p*A\n",
    "    om_pe=5.64e4*n_e**0.5#electron plasma frequency\n",
    "\n",
    "    if T_e<10*Z**2: #see NRL formulary pg 34\n",
    "        col_log=23-np.log(n_e**0.5*Z*T_e**-1.5)\n",
    "    else:\n",
    "        col_log=24-np.log(n_e**0.5*T_e**-1.0)\n",
    "    #frequencies\n",
    "    if nu_e is None:\n",
    "        nu_e=2.91e-6*Z*n_e*col_log*T_e**-1.5#electrons on ions\n",
    "    if nu_i is None:\n",
    "        nu_i=4.80e-8*Z**4*A**-0.5*n_e/Z*col_log*T_i**-1.5 #ions on electrons\n",
    "    #define omega and k as in Sheffield 113\n",
    "    ki=2*pi/lambda_in\n",
    "    omega_i=((c*ki)**2+om_pe**2)**0.5\n",
    "\n",
    "    ks=2*pi/lambda_range\n",
    "    omega_s=((c*ks)**2+om_pe**2)**0.5\n",
    "    \n",
    "    th=theta/180.0*np.pi#convert to radians for cosine function\n",
    "    k=(ks**2+ki**2-2*ks*ki*np.cos(th))**0.5\n",
    "    omega=omega_s-omega_i\n",
    "    \n",
    "    #define dimensionless parameters ala Sheffield\n",
    "    a=sqrt(2*e*T_e/m_e)\n",
    "    b=sqrt(2*e*T_i/m_i)\n",
    "    y_e=(omega-1j*nu_e+v_fe*k+v_fi*k)/(k*a)\n",
    "    y_i=(omega-1j*nu_i+v_fi*k)/(k*b)\n",
    "    #set up the Fadeeva function\n",
    "    w=scipy.special.wofz\n",
    "    conj=np.conj\n",
    "    D_e=-nu_e*pi**0.5/(k*a)*conj(w(conj(y_e)))\n",
    "    D_i=-nu_i*pi**0.5/(k*b)*conj(w(conj(y_i)))\n",
    "    lambda_De=7.43*(T_e/n_e)**0.5 #Debeye length in m\n",
    "    #the all important alpha parameter\n",
    "    alpha=1/(k*lambda_De)\n",
    "    C_i=alpha**2*Z*T_e/T_i*1.0/(1+D_i)*(1+1j*sqrt(pi)*y_i*w(y_i)) #ion susceptibility\n",
    "    C_e=alpha**2*1/(1+D_e)*(1+1j*sqrt(pi)*y_e*w(y_e))#electron susceptibility\n",
    "    \n",
    "    epsilon=1+C_e+C_i#dielectric function\n",
    "    B_e=1/np.abs(1+D_e)**2*(pi**0.5/(2*k*a)*(w(conj(y_e))+conj(w(conj(y_e))))-np.abs(D_e)**2/nu_e)\n",
    "    B_i=1/np.abs(1+D_i)**2*(pi**0.5/(2*k*b)*(w(conj(y_i))+conj(w(conj(y_i))))-np.abs(D_i)**2/nu_i)\n",
    "    Skw=2*np.abs((1+C_i)/epsilon)**2*B_e+2*Z*np.abs(C_e/epsilon)**2*B_i\n",
    "    return y_e, y_i, np.real(Skw/Skw.max()) #normalise the spectrum"
   ]
  },
  {
   "cell_type": "code",
   "execution_count": 14,
   "metadata": {
    "collapsed": false
   },
   "outputs": [],
   "source": [
    "l=np.linspace(400e-9, 700e-9, 1000)\n",
    "l0=532e-9\n",
    "shift=(l-l0)*1e10\n",
    "theta=45\n",
    "A=12\n",
    "n_e=3.3e17\n",
    "T_e=140\n",
    "T_i=520\n",
    "Z=5.9\n",
    "k,skw=S_k_omega(l, l0, theta, A, T_e,T_i,n_e,Z, )"
   ]
  },
  {
   "cell_type": "code",
   "execution_count": 15,
   "metadata": {
    "collapsed": false
   },
   "outputs": [
    {
     "data": {
      "text/plain": [
       "[<matplotlib.lines.Line2D at 0x779c2b0>]"
      ]
     },
     "execution_count": 15,
     "metadata": {},
     "output_type": "execute_result"
    },
    {
     "data": {
      "image/png": "[encoded data removed]",
      "text/plain": [
       "<matplotlib.figure.Figure at 0x779c2e8>"
      ]
     },
     "metadata": {},
     "output_type": "display_data"
    }
   ],
   "source": [
    "fig, ax=plt.subplots(figsize=(12,9))\n",
    "ax.plot(l, skw, color='black')\n",
    "#ax.set_xlim(-10,10)"
   ]
  },
  {
   "cell_type": "code",
   "execution_count": 34,
   "metadata": {
    "collapsed": false
   },
   "outputs": [
    {
     "data": {
      "text/plain": [
       "False"
      ]
     },
     "execution_count": 34,
     "metadata": {},
     "output_type": "execute_result"
    }
   ],
   "source": [
    "'a' is ('string' or 'notstring')"
   ]
  },
  {
   "cell_type": "code",
   "execution_count": 22,
   "metadata": {
    "collapsed": false
   },
   "outputs": [
    {
     "name": "stdout",
     "output_type": "stream",
     "text": [
      "The slowest run took 17.15 times longer than the fastest. This could mean that an intermediate result is being cached \n",
      "100000 loops, best of 3: 3.9 µs per loop\n"
     ]
    }
   ],
   "source": [
    "%timeit RWandIW(l)"
   ]
  },
  {
   "cell_type": "code",
   "execution_count": 140,
   "metadata": {
    "collapsed": false
   },
   "outputs": [
    {
     "data": {
      "text/plain": [
       "(0.36787944117144233+0.60715770584139372j)"
      ]
     },
     "execution_count": 140,
     "metadata": {},
     "output_type": "execute_result"
    }
   ],
   "source": [
    "w=scipy.special.wofz\n",
    "a,b=1,2\n",
    "w(1)"
   ]
  },
  {
   "cell_type": "code",
   "execution_count": 24,
   "metadata": {
    "collapsed": false
   },
   "outputs": [
    {
     "name": "stdout",
     "output_type": "stream",
     "text": [
      "(0.852143788966+0.406152726347j) (0.852143788966+0.406152726347j)\n"
     ]
    }
   ],
   "source": [
    "print(scipy.special.erfcx(-0.4j),w(0.4))"
   ]
  },
  {
   "cell_type": "code",
   "execution_count": 3,
   "metadata": {
    "collapsed": false
   },
   "outputs": [],
   "source": [
    "a=2"
   ]
  },
  {
   "cell_type": "code",
   "execution_count": 34,
   "metadata": {
    "collapsed": false
   },
   "outputs": [
    {
     "data": {
      "text/plain": [
       "(-0.076159013825536803+0.6520493321732922j)"
      ]
     },
     "execution_count": 34,
     "metadata": {},
     "output_type": "execute_result"
    }
   ],
   "source": [
    "chi_w(1)"
   ]
  },
  {
   "cell_type": "code",
   "execution_count": 9,
   "metadata": {
    "collapsed": false
   },
   "outputs": [
    {
     "data": {
      "text/plain": [
       "9039377.464769803"
      ]
     },
     "execution_count": 9,
     "metadata": {},
     "output_type": "execute_result"
    }
   ],
   "source": [
    "k.mean()"
   ]
  },
  {
   "cell_type": "code",
   "execution_count": 39,
   "metadata": {
    "collapsed": false
   },
   "outputs": [
    {
     "data": {
      "text/plain": [
       "array([  1.00000000e+00,   9.99967936e-01,   9.99871749e-01,\n",
       "         9.99711451e-01,   9.99487062e-01,   9.99198612e-01,\n",
       "         9.98846137e-01,   9.98429682e-01,   9.97949301e-01,\n",
       "         9.97405056e-01,   9.96797015e-01,   9.96125258e-01,\n",
       "         9.95389870e-01,   9.94590945e-01,   9.93728586e-01,\n",
       "         9.92802903e-01,   9.91814014e-01,   9.90762046e-01,\n",
       "         9.89647134e-01,   9.88469419e-01,   9.87229053e-01,\n",
       "         9.85926195e-01,   9.84561009e-01,   9.83133671e-01,\n",
       "         9.81644362e-01,   9.80093273e-01,   9.78480601e-01,\n",
       "         9.76806551e-01,   9.75071337e-01,   9.73275180e-01,\n",
       "         9.71418307e-01,   9.69500954e-01,   9.67523366e-01,\n",
       "         9.65485793e-01,   9.63388493e-01,   9.61231732e-01,\n",
       "         9.59015784e-01,   9.56740928e-01,   9.54407452e-01,\n",
       "         9.52015651e-01,   9.49565827e-01,   9.47058289e-01,\n",
       "         9.44493353e-01,   9.41871341e-01,   9.39192584e-01,\n",
       "         9.36457417e-01,   9.33666185e-01,   9.30819237e-01,\n",
       "         9.27916930e-01,   9.24959627e-01,   9.21947699e-01,\n",
       "         9.18881520e-01,   9.15761474e-01,   9.12587948e-01,\n",
       "         9.09361340e-01,   9.06082048e-01,   9.02750481e-01,\n",
       "         8.99367051e-01,   8.95932178e-01,   8.92446287e-01,\n",
       "         8.88909807e-01,   8.85323176e-01,   8.81686835e-01,\n",
       "         8.78001231e-01,   8.74266818e-01,   8.70484053e-01,\n",
       "         8.66653400e-01,   8.62775328e-01,   8.58850309e-01,\n",
       "         8.54878823e-01,   8.50861354e-01,   8.46798389e-01,\n",
       "         8.42690421e-01,   8.38537950e-01,   8.34341475e-01,\n",
       "         8.30101506e-01,   8.25818552e-01,   8.21493129e-01,\n",
       "         8.17125757e-01,   8.12716959e-01,   8.08267263e-01,\n",
       "         8.03777201e-01,   7.99247308e-01,   7.94678123e-01,\n",
       "         7.90070188e-01,   7.85424051e-01,   7.80740261e-01,\n",
       "         7.76019371e-01,   7.71261937e-01,   7.66468518e-01,\n",
       "         7.61639677e-01,   7.56775979e-01,   7.51877992e-01,\n",
       "         7.46946288e-01,   7.41981439e-01,   7.36984022e-01,\n",
       "         7.31954616e-01,   7.26893801e-01,   7.21802160e-01,\n",
       "         7.16680278e-01,   7.11528743e-01,   7.06348145e-01,\n",
       "         7.01139073e-01,   6.95902121e-01,   6.90637883e-01,\n",
       "         6.85346955e-01,   6.80029934e-01,   6.74687420e-01,\n",
       "         6.69320011e-01,   6.63928310e-01,   6.58512918e-01,\n",
       "         6.53074439e-01,   6.47613475e-01,   6.42130632e-01,\n",
       "         6.36626515e-01,   6.31101730e-01,   6.25556883e-01,\n",
       "         6.19992580e-01,   6.14409428e-01,   6.08808035e-01,\n",
       "         6.03189007e-01,   5.97552950e-01,   5.91900473e-01,\n",
       "         5.86232180e-01,   5.80548679e-01,   5.74850576e-01,\n",
       "         5.69138474e-01,   5.63412980e-01,   5.57674696e-01,\n",
       "         5.51924226e-01,   5.46162172e-01,   5.40389135e-01,\n",
       "         5.34605714e-01,   5.28812510e-01,   5.23010119e-01,\n",
       "         5.17199138e-01,   5.11380161e-01,   5.05553781e-01,\n",
       "         4.99720590e-01,   4.93881178e-01,   4.88036133e-01,\n",
       "         4.82186041e-01,   4.76331487e-01,   4.70473051e-01,\n",
       "         4.64611314e-01,   4.58746855e-01,   4.52880247e-01,\n",
       "         4.47012065e-01,   4.41142878e-01,   4.35273256e-01,\n",
       "         4.29403762e-01,   4.23534960e-01,   4.17667409e-01,\n",
       "         4.11801667e-01,   4.05938288e-01,   4.00077822e-01,\n",
       "         3.94220817e-01,   3.88367819e-01,   3.82519368e-01,\n",
       "         3.76676003e-01,   3.70838260e-01,   3.65006668e-01,\n",
       "         3.59181757e-01,   3.53364050e-01,   3.47554069e-01,\n",
       "         3.41752330e-01,   3.35959347e-01,   3.30175628e-01,\n",
       "         3.24401680e-01,   3.18638004e-01,   3.12885098e-01,\n",
       "         3.07143455e-01,   3.01413564e-01,   2.95695911e-01,\n",
       "         2.89990977e-01,   2.84299238e-01,   2.78621167e-01,\n",
       "         2.72957232e-01,   2.67307896e-01,   2.61673618e-01,\n",
       "         2.56054852e-01,   2.50452049e-01,   2.44865654e-01,\n",
       "         2.39296108e-01,   2.33743845e-01,   2.28209298e-01,\n",
       "         2.22692893e-01,   2.17195051e-01,   2.11716189e-01,\n",
       "         2.06256718e-01,   2.00817045e-01,   1.95397572e-01,\n",
       "         1.89998696e-01,   1.84620808e-01,   1.79264295e-01,\n",
       "         1.73929538e-01,   1.68616913e-01,   1.63326793e-01,\n",
       "         1.58059542e-01,   1.52815521e-01,   1.47595085e-01,\n",
       "         1.42398586e-01,   1.37226368e-01,   1.32078769e-01,\n",
       "         1.26956125e-01,   1.21858765e-01,   1.16787011e-01,\n",
       "         1.11741183e-01,   1.06721592e-01,   1.01728545e-01,\n",
       "         9.67623457e-02,   9.18232891e-02,   8.69116664e-02,\n",
       "         8.20277630e-02,   7.71718589e-02,   7.23442286e-02,\n",
       "         6.75451412e-02,   6.27748600e-02,   5.80336430e-02,\n",
       "         5.33217428e-02,   4.86394064e-02,   4.39868751e-02,\n",
       "         3.93643851e-02,   3.47721667e-02,   3.02104449e-02,\n",
       "         2.56794392e-02,   2.11793635e-02,   1.67104263e-02,\n",
       "         1.22728307e-02,   7.86677398e-03,   3.49244837e-03,\n",
       "        -8.49959600e-04,  -5.16026880e-03,  -9.43830353e-03,\n",
       "        -1.36838935e-02,  -1.78968739e-02,  -2.20770853e-02,\n",
       "        -2.62243735e-02,  -3.03385898e-02,  -3.44195910e-02,\n",
       "        -3.84672390e-02,  -4.24814011e-02,  -4.64619498e-02,\n",
       "        -5.04087630e-02,  -5.43217240e-02,  -5.82007209e-02,\n",
       "        -6.20456473e-02,  -6.58564021e-02,  -6.96328891e-02,\n",
       "        -7.33750174e-02,  -7.70827011e-02,  -8.07558594e-02,\n",
       "        -8.43944166e-02,  -8.79983021e-02,  -9.15674501e-02,\n",
       "        -9.51018000e-02,  -9.86012959e-02,  -1.02065887e-01,\n",
       "        -1.05495527e-01,  -1.08890176e-01,  -1.12249796e-01,\n",
       "        -1.15574356e-01,  -1.18863829e-01,  -1.22118193e-01,\n",
       "        -1.25337432e-01,  -1.28521530e-01,  -1.31670482e-01,\n",
       "        -1.34784282e-01,  -1.37862933e-01,  -1.40906438e-01,\n",
       "        -1.43914808e-01,  -1.46888057e-01,  -1.49826204e-01,\n",
       "        -1.52729271e-01,  -1.55597286e-01,  -1.58430280e-01,\n",
       "        -1.61228288e-01,  -1.63991351e-01,  -1.66719511e-01,\n",
       "        -1.69412818e-01,  -1.72071322e-01,  -1.74695081e-01,\n",
       "        -1.77284153e-01,  -1.79838603e-01,  -1.82358497e-01,\n",
       "        -1.84843908e-01,  -1.87294911e-01,  -1.89711584e-01,\n",
       "        -1.92094010e-01,  -1.94442275e-01,  -1.96756469e-01,\n",
       "        -1.99036685e-01,  -2.01283020e-01,  -2.03495573e-01,\n",
       "        -2.05674449e-01,  -2.07819754e-01,  -2.09931599e-01,\n",
       "        -2.12010096e-01,  -2.14055363e-01,  -2.16067518e-01,\n",
       "        -2.18046685e-01,  -2.19992990e-01,  -2.21906561e-01,\n",
       "        -2.23787530e-01,  -2.25636031e-01,  -2.27452203e-01,\n",
       "        -2.29236185e-01,  -2.30988121e-01,  -2.32708156e-01,\n",
       "        -2.34396438e-01,  -2.36053119e-01,  -2.37678351e-01,\n",
       "        -2.39272292e-01,  -2.40835099e-01,  -2.42366933e-01,\n",
       "        -2.43867957e-01,  -2.45338337e-01,  -2.46778241e-01,\n",
       "        -2.48187838e-01,  -2.49567300e-01,  -2.50916802e-01,\n",
       "        -2.52236520e-01,  -2.53526632e-01,  -2.54787318e-01,\n",
       "        -2.56018761e-01,  -2.57221143e-01,  -2.58394652e-01,\n",
       "        -2.59539474e-01,  -2.60655799e-01,  -2.61743817e-01,\n",
       "        -2.62803722e-01,  -2.63835706e-01,  -2.64839966e-01,\n",
       "        -2.65816699e-01,  -2.66766103e-01,  -2.67688377e-01,\n",
       "        -2.68583724e-01,  -2.69452346e-01,  -2.70294445e-01,\n",
       "        -2.71110228e-01,  -2.71899900e-01,  -2.72663669e-01,\n",
       "        -2.73401742e-01,  -2.74114329e-01,  -2.74801640e-01,\n",
       "        -2.75463886e-01,  -2.76101279e-01,  -2.76714032e-01,\n",
       "        -2.77302358e-01,  -2.77866473e-01,  -2.78406590e-01,\n",
       "        -2.78922926e-01,  -2.79415697e-01,  -2.79885121e-01,\n",
       "        -2.80331414e-01,  -2.80754794e-01,  -2.81155481e-01,\n",
       "        -2.81533693e-01,  -2.81889649e-01,  -2.82223568e-01,\n",
       "        -2.82535672e-01,  -2.82826179e-01,  -2.83095311e-01,\n",
       "        -2.83343288e-01,  -2.83570330e-01,  -2.83776659e-01,\n",
       "        -2.83962496e-01,  -2.84128061e-01,  -2.84273576e-01,\n",
       "        -2.84399261e-01,  -2.84505337e-01,  -2.84592025e-01,\n",
       "        -2.84659547e-01,  -2.84708121e-01,  -2.84737970e-01,\n",
       "        -2.84749312e-01,  -2.84742367e-01,  -2.84717356e-01,\n",
       "        -2.84674497e-01,  -2.84614009e-01,  -2.84536110e-01,\n",
       "        -2.84441019e-01,  -2.84328953e-01,  -2.84200129e-01,\n",
       "        -2.84054763e-01,  -2.83893073e-01,  -2.83715273e-01,\n",
       "        -2.83521578e-01,  -2.83312203e-01,  -2.83087360e-01,\n",
       "        -2.82847264e-01,  -2.82592126e-01,  -2.82322158e-01,\n",
       "        -2.82037571e-01,  -2.81738575e-01,  -2.81425378e-01,\n",
       "        -2.81098190e-01,  -2.80757218e-01,  -2.80402668e-01,\n",
       "        -2.80034747e-01,  -2.79653660e-01,  -2.79259610e-01,\n",
       "        -2.78852801e-01,  -2.78433434e-01,  -2.78001711e-01,\n",
       "        -2.77557832e-01,  -2.77101995e-01,  -2.76634400e-01,\n",
       "        -2.76155243e-01,  -2.75664719e-01,  -2.75163024e-01,\n",
       "        -2.74650351e-01,  -2.74126892e-01,  -2.73592840e-01,\n",
       "        -2.73048385e-01,  -2.72493714e-01,  -2.71929017e-01,\n",
       "        -2.71354480e-01,  -2.70770288e-01,  -2.70176626e-01,\n",
       "        -2.69573676e-01,  -2.68961621e-01,  -2.68340640e-01,\n",
       "        -2.67710913e-01,  -2.67072618e-01,  -2.66425930e-01,\n",
       "        -2.65771027e-01,  -2.65108080e-01,  -2.64437263e-01,\n",
       "        -2.63758748e-01,  -2.63072704e-01,  -2.62379299e-01,\n",
       "        -2.61678700e-01,  -2.60971075e-01,  -2.60256586e-01,\n",
       "        -2.59535396e-01,  -2.58807668e-01,  -2.58073562e-01,\n",
       "        -2.57333236e-01,  -2.56586848e-01,  -2.55834553e-01,\n",
       "        -2.55076507e-01,  -2.54312862e-01,  -2.53543769e-01,\n",
       "        -2.52769380e-01,  -2.51989842e-01,  -2.51205304e-01,\n",
       "        -2.50415910e-01,  -2.49621806e-01,  -2.48823134e-01,\n",
       "        -2.48020036e-01,  -2.47212652e-01,  -2.46401120e-01,\n",
       "        -2.45585578e-01,  -2.44766160e-01,  -2.43943003e-01,\n",
       "        -2.43116237e-01,  -2.42285995e-01,  -2.41452405e-01,\n",
       "        -2.40615598e-01,  -2.39775698e-01,  -2.38932833e-01,\n",
       "        -2.38087125e-01,  -2.37238697e-01,  -2.36387670e-01,\n",
       "        -2.35534165e-01,  -2.34678298e-01,  -2.33820187e-01,\n",
       "        -2.32959947e-01,  -2.32097692e-01,  -2.31233534e-01,\n",
       "        -2.30367584e-01,  -2.29499951e-01,  -2.28630744e-01,\n",
       "        -2.27760070e-01,  -2.26888033e-01,  -2.26014737e-01,\n",
       "        -2.25140285e-01,  -2.24264777e-01,  -2.23388314e-01,\n",
       "        -2.22510994e-01,  -2.21632913e-01,  -2.20754167e-01,\n",
       "        -2.19874849e-01,  -2.18995054e-01,  -2.18114871e-01,\n",
       "        -2.17234391e-01,  -2.16353703e-01,  -2.15472893e-01,\n",
       "        -2.14592048e-01,  -2.13711253e-01,  -2.12830590e-01,\n",
       "        -2.11950142e-01,  -2.11069990e-01,  -2.10190212e-01,\n",
       "        -2.09310887e-01,  -2.08432091e-01,  -2.07553901e-01,\n",
       "        -2.06676389e-01,  -2.05799631e-01,  -2.04923696e-01,\n",
       "        -2.04048656e-01,  -2.03174579e-01,  -2.02301535e-01,\n",
       "        -2.01429589e-01,  -2.00558807e-01,  -1.99689254e-01,\n",
       "        -1.98820993e-01,  -1.97954086e-01,  -1.97088593e-01,\n",
       "        -1.96224575e-01,  -1.95362091e-01,  -1.94501196e-01,\n",
       "        -1.93641948e-01,  -1.92784402e-01,  -1.91928612e-01,\n",
       "        -1.91074631e-01,  -1.90222510e-01,  -1.89372300e-01,\n",
       "        -1.88524052e-01,  -1.87677813e-01,  -1.86833631e-01,\n",
       "        -1.85991552e-01,  -1.85151623e-01,  -1.84313887e-01,\n",
       "        -1.83478388e-01,  -1.82645168e-01,  -1.81814269e-01,\n",
       "        -1.80985730e-01,  -1.80159593e-01,  -1.79335894e-01,\n",
       "        -1.78514671e-01,  -1.77695962e-01,  -1.76879801e-01,\n",
       "        -1.76066223e-01,  -1.75255262e-01,  -1.74446952e-01,\n",
       "        -1.73641323e-01,  -1.72838407e-01,  -1.72038235e-01,\n",
       "        -1.71240835e-01,  -1.70446236e-01,  -1.69654466e-01,\n",
       "        -1.68865551e-01,  -1.68079518e-01,  -1.67296392e-01,\n",
       "        -1.66516196e-01,  -1.65738955e-01,  -1.64964692e-01,\n",
       "        -1.64193428e-01,  -1.63425185e-01,  -1.62659983e-01,\n",
       "        -1.61897842e-01,  -1.61138781e-01,  -1.60382818e-01,\n",
       "        -1.59629971e-01,  -1.58880257e-01,  -1.58133691e-01,\n",
       "        -1.57390290e-01,  -1.56650068e-01,  -1.55913039e-01,\n",
       "        -1.55179217e-01,  -1.54448615e-01,  -1.53721244e-01,\n",
       "        -1.52997117e-01,  -1.52276244e-01,  -1.51558636e-01,\n",
       "        -1.50844303e-01,  -1.50133253e-01,  -1.49425495e-01,\n",
       "        -1.48721037e-01,  -1.48019887e-01,  -1.47322051e-01,\n",
       "        -1.46627536e-01,  -1.45936348e-01,  -1.45248491e-01,\n",
       "        -1.44563972e-01,  -1.43882793e-01,  -1.43204958e-01,\n",
       "        -1.42530471e-01,  -1.41859335e-01,  -1.41191552e-01,\n",
       "        -1.40527124e-01,  -1.39866051e-01,  -1.39208335e-01,\n",
       "        -1.38553977e-01,  -1.37902976e-01,  -1.37255332e-01,\n",
       "        -1.36611044e-01,  -1.35970111e-01,  -1.35332532e-01,\n",
       "        -1.34698303e-01,  -1.34067424e-01,  -1.33439890e-01,\n",
       "        -1.32815700e-01,  -1.32194848e-01,  -1.31577332e-01,\n",
       "        -1.30963148e-01,  -1.30352289e-01,  -1.29744753e-01,\n",
       "        -1.29140533e-01,  -1.28539623e-01,  -1.27942019e-01,\n",
       "        -1.27347713e-01,  -1.26756700e-01,  -1.26168972e-01,\n",
       "        -1.25584522e-01,  -1.25003344e-01,  -1.24425429e-01,\n",
       "        -1.23850769e-01,  -1.23279356e-01,  -1.22711183e-01,\n",
       "        -1.22146240e-01,  -1.21584518e-01,  -1.21026008e-01,\n",
       "        -1.20470701e-01,  -1.19918588e-01,  -1.19369657e-01,\n",
       "        -1.18823900e-01,  -1.18281307e-01,  -1.17741866e-01,\n",
       "        -1.17205567e-01,  -1.16672399e-01,  -1.16142352e-01,\n",
       "        -1.15615413e-01,  -1.15091573e-01,  -1.14570819e-01,\n",
       "        -1.14053139e-01,  -1.13538522e-01,  -1.13026955e-01,\n",
       "        -1.12518427e-01,  -1.12012925e-01,  -1.11510437e-01,\n",
       "        -1.11010951e-01,  -1.10514453e-01,  -1.10020930e-01,\n",
       "        -1.09530371e-01,  -1.09042761e-01,  -1.08558088e-01,\n",
       "        -1.08076338e-01,  -1.07597498e-01,  -1.07121554e-01,\n",
       "        -1.06648494e-01,  -1.06178302e-01,  -1.05710967e-01,\n",
       "        -1.05246472e-01,  -1.04784806e-01,  -1.04325954e-01,\n",
       "        -1.03869901e-01,  -1.03416634e-01,  -1.02966138e-01,\n",
       "        -1.02518400e-01,  -1.02073405e-01,  -1.01631138e-01,\n",
       "        -1.01191586e-01,  -1.00754733e-01,  -1.00320566e-01,\n",
       "        -9.98890691e-02,  -9.94602287e-02,  -9.90340300e-02,\n",
       "        -9.86104582e-02,  -9.81894988e-02,  -9.77711371e-02,\n",
       "        -9.73553583e-02,  -9.69421478e-02,  -9.65314908e-02,\n",
       "        -9.61233726e-02,  -9.57177784e-02,  -9.53146935e-02,\n",
       "        -9.49141030e-02,  -9.45159922e-02,  -9.41203464e-02,\n",
       "        -9.37271507e-02,  -9.33363903e-02,  -9.29480506e-02,\n",
       "        -9.25621167e-02,  -9.21785740e-02,  -9.17974075e-02,\n",
       "        -9.14186028e-02,  -9.10421449e-02,  -9.06680194e-02,\n",
       "        -9.02962114e-02,  -8.99267063e-02,  -8.95594896e-02,\n",
       "        -8.91945466e-02,  -8.88318628e-02,  -8.84714236e-02,\n",
       "        -8.81132145e-02,  -8.77572210e-02,  -8.74034288e-02,\n",
       "        -8.70518234e-02,  -8.67023904e-02,  -8.63551155e-02,\n",
       "        -8.60099844e-02,  -8.56669830e-02,  -8.53260969e-02,\n",
       "        -8.49873120e-02,  -8.46506143e-02,  -8.43159896e-02,\n",
       "        -8.39834239e-02,  -8.36529033e-02,  -8.33244138e-02,\n",
       "        -8.29979416e-02,  -8.26734728e-02,  -8.23509938e-02,\n",
       "        -8.20304907e-02,  -8.17119500e-02,  -8.13953580e-02,\n",
       "        -8.10807012e-02,  -8.07679662e-02,  -8.04571394e-02,\n",
       "        -8.01482076e-02,  -7.98411575e-02,  -7.95359757e-02,\n",
       "        -7.92326492e-02,  -7.89311648e-02,  -7.86315094e-02,\n",
       "        -7.83336701e-02,  -7.80376339e-02,  -7.77433881e-02,\n",
       "        -7.74509197e-02,  -7.71602161e-02,  -7.68712646e-02,\n",
       "        -7.65840526e-02,  -7.62985676e-02,  -7.60147971e-02,\n",
       "        -7.57327288e-02,  -7.54523503e-02,  -7.51736494e-02,\n",
       "        -7.48966138e-02,  -7.46212316e-02,  -7.43474906e-02,\n",
       "        -7.40753788e-02,  -7.38048845e-02,  -7.35359956e-02,\n",
       "        -7.32687006e-02,  -7.30029876e-02,  -7.27388452e-02,\n",
       "        -7.24762617e-02,  -7.22152256e-02,  -7.19557257e-02,\n",
       "        -7.16977505e-02,  -7.14412887e-02,  -7.11863293e-02,\n",
       "        -7.09328611e-02,  -7.06808731e-02,  -7.04303543e-02,\n",
       "        -7.01812938e-02,  -6.99336808e-02,  -6.96875045e-02,\n",
       "        -6.94427543e-02,  -6.91994196e-02,  -6.89574898e-02,\n",
       "        -6.87169546e-02,  -6.84778034e-02,  -6.82400260e-02,\n",
       "        -6.80036122e-02,  -6.77685518e-02,  -6.75348347e-02,\n",
       "        -6.73024508e-02,  -6.70713903e-02,  -6.68416432e-02,\n",
       "        -6.66131998e-02,  -6.63860502e-02,  -6.61601849e-02,\n",
       "        -6.59355942e-02,  -6.57122687e-02,  -6.54901988e-02,\n",
       "        -6.52693751e-02,  -6.50497885e-02,  -6.48314295e-02,\n",
       "        -6.46142891e-02,  -6.43983581e-02,  -6.41836276e-02,\n",
       "        -6.39700885e-02,  -6.37577319e-02,  -6.35465490e-02,\n",
       "        -6.33365311e-02,  -6.31276694e-02,  -6.29199554e-02,\n",
       "        -6.27133804e-02,  -6.25079360e-02,  -6.23036137e-02,\n",
       "        -6.21004053e-02,  -6.18983023e-02,  -6.16972966e-02,\n",
       "        -6.14973800e-02,  -6.12985445e-02,  -6.11007818e-02,\n",
       "        -6.09040842e-02,  -6.07084437e-02,  -6.05138525e-02,\n",
       "        -6.03203027e-02,  -6.01277867e-02,  -5.99362969e-02,\n",
       "        -5.97458255e-02,  -5.95563651e-02,  -5.93679083e-02,\n",
       "        -5.91804476e-02,  -5.89939756e-02,  -5.88084851e-02,\n",
       "        -5.86239689e-02,  -5.84404198e-02,  -5.82578307e-02,\n",
       "        -5.80761946e-02,  -5.78955044e-02,  -5.77157532e-02,\n",
       "        -5.75369342e-02,  -5.73590405e-02,  -5.71820654e-02,\n",
       "        -5.70060021e-02,  -5.68308441e-02,  -5.66565847e-02,\n",
       "        -5.64832175e-02,  -5.63107358e-02,  -5.61391334e-02,\n",
       "        -5.59684037e-02,  -5.57985406e-02,  -5.56295378e-02,\n",
       "        -5.54613889e-02,  -5.52940880e-02,  -5.51276288e-02,\n",
       "        -5.49620054e-02,  -5.47972116e-02,  -5.46332416e-02,\n",
       "        -5.44700895e-02,  -5.43077494e-02,  -5.41462155e-02,\n",
       "        -5.39854821e-02,  -5.38255434e-02,  -5.36663939e-02,\n",
       "        -5.35080278e-02,  -5.33504397e-02,  -5.31936240e-02,\n",
       "        -5.30375753e-02,  -5.28822882e-02,  -5.27277573e-02,\n",
       "        -5.25739772e-02,  -5.24209427e-02,  -5.22686486e-02,\n",
       "        -5.21170897e-02,  -5.19662608e-02,  -5.18161569e-02,\n",
       "        -5.16667728e-02,  -5.15181036e-02,  -5.13701444e-02,\n",
       "        -5.12228901e-02,  -5.10763359e-02,  -5.09304770e-02,\n",
       "        -5.07853086e-02,  -5.06408259e-02,  -5.04970242e-02,\n",
       "        -5.03538988e-02,  -5.02114451e-02,  -5.00696585e-02,\n",
       "        -4.99285344e-02,  -4.97880684e-02,  -4.96482559e-02,\n",
       "        -4.95090925e-02,  -4.93705738e-02,  -4.92326955e-02,\n",
       "        -4.90954532e-02,  -4.89588426e-02,  -4.88228595e-02,\n",
       "        -4.86874997e-02,  -4.85527590e-02,  -4.84186332e-02,\n",
       "        -4.82851183e-02,  -4.81522101e-02,  -4.80199047e-02,\n",
       "        -4.78881980e-02,  -4.77570860e-02,  -4.76265649e-02,\n",
       "        -4.74966308e-02,  -4.73672796e-02,  -4.72385078e-02,\n",
       "        -4.71103113e-02,  -4.69826865e-02,  -4.68556296e-02,\n",
       "        -4.67291370e-02,  -4.66032049e-02,  -4.64778297e-02,\n",
       "        -4.63530077e-02,  -4.62287355e-02,  -4.61050095e-02,\n",
       "        -4.59818260e-02,  -4.58591818e-02,  -4.57370732e-02,\n",
       "        -4.56154968e-02,  -4.54944494e-02,  -4.53739274e-02,\n",
       "        -4.52539275e-02,  -4.51344464e-02,  -4.50154809e-02,\n",
       "        -4.48970276e-02,  -4.47790833e-02,  -4.46616449e-02,\n",
       "        -4.45447091e-02,  -4.44282728e-02,  -4.43123328e-02,\n",
       "        -4.41968861e-02,  -4.40819295e-02,  -4.39674601e-02,\n",
       "        -4.38534748e-02,  -4.37399706e-02,  -4.36269445e-02,\n",
       "        -4.35143935e-02,  -4.34023148e-02,  -4.32907055e-02,\n",
       "        -4.31795626e-02,  -4.30688833e-02,  -4.29586647e-02,\n",
       "        -4.28489042e-02,  -4.27395988e-02,  -4.26307458e-02,\n",
       "        -4.25223426e-02,  -4.24143862e-02,  -4.23068742e-02,\n",
       "        -4.21998037e-02,  -4.20931721e-02,  -4.19869769e-02,\n",
       "        -4.18812153e-02,  -4.17758849e-02,  -4.16709830e-02,\n",
       "        -4.15665070e-02,  -4.14624546e-02,  -4.13588231e-02,\n",
       "        -4.12556101e-02,  -4.11528130e-02,  -4.10504296e-02,\n",
       "        -4.09484572e-02,  -4.08468936e-02,  -4.07457363e-02,\n",
       "        -4.06449830e-02,  -4.05446312e-02,  -4.04446788e-02,\n",
       "        -4.03451233e-02,  -4.02459625e-02,  -4.01471941e-02,\n",
       "        -4.00488158e-02,  -3.99508254e-02,  -3.98532206e-02,\n",
       "        -3.97559993e-02,  -3.96591593e-02,  -3.95626983e-02,\n",
       "        -3.94666143e-02,  -3.93709051e-02,  -3.92755685e-02,\n",
       "        -3.91806025e-02,  -3.90860050e-02,  -3.89917738e-02,\n",
       "        -3.88979070e-02,  -3.88044025e-02,  -3.87112582e-02,\n",
       "        -3.86184722e-02,  -3.85260425e-02,  -3.84339670e-02,\n",
       "        -3.83422439e-02,  -3.82508710e-02,  -3.81598466e-02,\n",
       "        -3.80691687e-02,  -3.79788354e-02,  -3.78888448e-02,\n",
       "        -3.77991950e-02,  -3.77098841e-02,  -3.76209103e-02,\n",
       "        -3.75322718e-02,  -3.74439667e-02,  -3.73559933e-02,\n",
       "        -3.72683496e-02,  -3.71810340e-02,  -3.70940447e-02,\n",
       "        -3.70073799e-02,  -3.69210379e-02,  -3.68350169e-02,\n",
       "        -3.67493152e-02,  -3.66639311e-02,  -3.65788629e-02,\n",
       "        -3.64941090e-02,  -3.64096676e-02,  -3.63255371e-02,\n",
       "        -3.62417159e-02,  -3.61582023e-02,  -3.60749948e-02,\n",
       "        -3.59920916e-02,  -3.59094912e-02,  -3.58271920e-02,\n",
       "        -3.57451924e-02,  -3.56634909e-02,  -3.55820859e-02,\n",
       "        -3.55009759e-02,  -3.54201593e-02,  -3.53396346e-02,\n",
       "        -3.52594003e-02,  -3.51794550e-02,  -3.50997970e-02,\n",
       "        -3.50204250e-02,  -3.49413374e-02,  -3.48625329e-02,\n",
       "        -3.47840099e-02])"
      ]
     },
     "execution_count": 39,
     "metadata": {},
     "output_type": "execute_result"
    }
   ],
   "source": [
    "np.real(chi_w(x))"
   ]
  },
  {
   "cell_type": "code",
   "execution_count": 10,
   "metadata": {
    "collapsed": false
   },
   "outputs": [
    {
     "name": "stdout",
     "output_type": "stream",
     "text": [
      "C:\\Users\\jdavies\n"
     ]
    }
   ],
   "source": [
    "cd \"~\""
   ]
  },
  {
   "cell_type": "code",
   "execution_count": 11,
   "metadata": {
    "collapsed": false
   },
   "outputs": [
    {
     "name": "stdout",
     "output_type": "stream",
     "text": [
      "C:\\Users\\jdavies\\Downloads\n"
     ]
    }
   ],
   "source": [
    "cd \"Downloads/\""
   ]
  },
  {
   "cell_type": "code",
   "execution_count": 14,
   "metadata": {
    "collapsed": false
   },
   "outputs": [
    {
     "data": {
      "text/plain": [
       "array([[  1.00000000e-01,   9.99999991e-38,   1.00000006e-20],\n",
       "       [  1.00100000e-01,   9.99999991e-38,   1.00000006e-20],\n",
       "       [  1.00200000e-01,   9.99999991e-38,   1.00000006e-20],\n",
       "       ..., \n",
       "       [  9.00710000e+03,   5.99993868e+00,   5.99993911e+17],\n",
       "       [  9.00810000e+03,   5.99993869e+00,   5.99993912e+17],\n",
       "       [  9.00910000e+03,   5.99993870e+00,   5.99993913e+17]])"
      ]
     },
     "execution_count": 14,
     "metadata": {},
     "output_type": "execute_result"
    }
   ],
   "source": [
    "np.genfromtxt('zb_Spk_C_NLTE.txt', delimiter='       ', skip_header=4)"
   ]
  },
  {
   "cell_type": "code",
   "execution_count": null,
   "metadata": {
    "collapsed": true
   },
   "outputs": [],
   "source": []
  }
 ],
 "metadata": {
  "kernelspec": {
   "display_name": "Python 3",
   "language": "python",
   "name": "python3"
  },
  "language_info": {
   "codemirror_mode": {
    "name": "ipython",
    "version": 3
   },
   "file_extension": ".py",
   "mimetype": "text/x-python",
   "name": "python",
   "nbconvert_exporter": "python",
   "pygments_lexer": "ipython3",
   "version": "3.4.3"
  }
 },
 "nbformat": 4,
 "nbformat_minor": 0
}
