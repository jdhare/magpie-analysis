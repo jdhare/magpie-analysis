{
 "cells": [
  {
   "cell_type": "code",
   "execution_count": 23,
   "metadata": {
    "collapsed": false
   },
   "outputs": [
    {
     "data": {
      "text/plain": [
       "S_k_omega (generic function with 3 methods)"
      ]
     },
     "execution_count": 23,
     "metadata": {},
     "output_type": "execute_result"
    }
   ],
   "source": [
    "using PyPlot\n",
    "\n",
    "function S_k_omega(lambda_range, lambda_in, theta, A, T_e,T_i,n_e,Z, v_fi=0, v_fe=0)\n",
    "    #    Returns a normalised spectral density function.\n",
    "    #    Implements the model of Sheffield (2nd Ed.)\n",
    "    #    One ion, one electron species with independent temeperatures\n",
    "    #    Electron velocity is with respect to ion velocity\n",
    "    #    Returns S(k,w) for each wavelength in lambda_range assuming\n",
    "    #    input wavelength lambda_in. Both in metres\n",
    "    #    Theta is angle between k_in and k_s in degrees\n",
    "    #    A i atomic mass, Z is ion charge\n",
    "    #    T_e, T_i in eV, n_e in cm^-3\n",
    "    #    V_fi and V_fe in m/s\n",
    "\n",
    "    m_p=1.66e-27\n",
    "    m_e=9.11e-31\n",
    "    c=3e8\n",
    "    e_charge=1.6e-19\n",
    "    RW_and_Iw(z)=1-z.*(2*dawson(z)-im*sqrt(pi)*exp(-z.^2))\n",
    "    #physical parameters\n",
    "    m_i=m_p*A\n",
    "    om_pe=5.64e4*n_e^0.5#electron plasma frequency\n",
    "    #define omega and k as in Sheffield 113\n",
    "    ki=2*pi/lambda_in\n",
    "    omega_i=((c*ki)^2+om_pe^2)^0.5\n",
    "\n",
    "    ks=2*pi./lambda_range\n",
    "    omega_s=((c*ks).^2+om_pe^2).^0.5\n",
    "    \n",
    "    th=theta/180.0*pi#convert to radians for cosine function\n",
    "    k=(ks.^2+ki^2-2*ks*ki*cos(th)).^0.5\n",
    "    omega=omega_s-omega_i\n",
    "    \n",
    "    #define dimensionless parameters ala Sheffield\n",
    "    a=sqrt(2*e_charge*T_e/m_e)\n",
    "    b=sqrt(2*e_charge*T_i/m_i)\n",
    "    x_e=(omega./k+v_fe+v_fi)/a\n",
    "    x_i=(omega./k+v_fi)/b\n",
    "    lambda_De=7.43*(T_e/n_e)^0.5 #Debeye length in m\n",
    "    #the all important alpha parameter\n",
    "    alpha2=(1./(k*lambda_De)).^2\n",
    "    #set up the Fadeeva function\n",
    "    chi_i=alpha2.*(Z*T_e/T_i).*(RW_and_Iw(x_i)) #ion susceptibility\n",
    "    chi_e=alpha2.*(RW_and_Iw(x_e))#electron susceptibility\n",
    "    epsilon=1+chi_e+chi_i#dielectric function\n",
    "    fe0=1/(sqrt(pi)*a)*exp(-x_e.^2)#electron Maxwellian function\n",
    "    fi0=1/(sqrt(pi)*b)*exp(-x_i.^2)#ion Maxwellian\n",
    "    skw=2*pi./k.*(abs(1-chi_e./epsilon).^2).*fe0+Z*(abs(chi_e./epsilon).^2).*fi0\n",
    "    skw./maximum(skw)\n",
    "end"
   ]
  },
  {
   "cell_type": "code",
   "execution_count": 2,
   "metadata": {
    "collapsed": false
   },
   "outputs": [
    {
     "data": {
      "text/plain": [
       "6"
      ]
     },
     "execution_count": 2,
     "metadata": {},
     "output_type": "execute_result"
    }
   ],
   "source": [
    "l=linspace(530e-9, 534e-9, 1000)\n",
    "l0=532e-9\n",
    "theta=45\n",
    "A=12\n",
    "n_e=5e17\n",
    "T_e=100\n",
    "T_i=100\n",
    "Z=6"
   ]
  },
  {
   "cell_type": "code",
   "execution_count": 25,
   "metadata": {
    "collapsed": false
   },
   "outputs": [
    {
     "name": "stdout",
     "output_type": "stream",
     "text": [
      "1000 loops, best of 3: 805.61 µs per loop\n"
     ]
    },
    {
     "data": {
      "text/plain": [
       "0.00080561037"
      ]
     },
     "execution_count": 25,
     "metadata": {},
     "output_type": "execute_result"
    }
   ],
   "source": [
    "@timeit S_k_omega(l, l0, theta, A, T_e,T_i,n_e,Z)"
   ]
  },
  {
   "cell_type": "code",
   "execution_count": 10,
   "metadata": {
    "collapsed": false
   },
   "outputs": [],
   "source": [
    "using TimeIt"
   ]
  },
  {
   "cell_type": "code",
   "execution_count": 82,
   "metadata": {
    "collapsed": false
   },
   "outputs": [
    {
     "data": {
      "text/plain": [
       "(0.604103223382251 + 0.0im,0.3479506678267078 - 1.0761590138255368im,-0.0761590138255368 + 0.6520493321732922im)"
      ]
     },
     "execution_count": 82,
     "metadata": {},
     "output_type": "execute_result"
    }
   ],
   "source": [
    "x=1\n",
    "chi_w(x), chi_erfi(x), chi_daw(x)"
   ]
  },
  {
   "cell_type": "code",
   "execution_count": null,
   "metadata": {
    "collapsed": true
   },
   "outputs": [],
   "source": []
  }
 ],
 "metadata": {
  "kernelspec": {
   "display_name": "Julia 0.3.11",
   "language": "julia",
   "name": "julia-0.3"
  },
  "language_info": {
   "file_extension": ".jl",
   "mimetype": "application/julia",
   "name": "julia",
   "version": "0.3.11"
  }
 },
 "nbformat": 4,
 "nbformat_minor": 0
}
