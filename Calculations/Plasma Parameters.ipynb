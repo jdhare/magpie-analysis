{
 "cells": [
  {
   "cell_type": "code",
   "execution_count": 1,
   "metadata": {
    "collapsed": false
   },
   "outputs": [],
   "source": [
    "import sys\n",
    "sys.path.append('..')\n",
    "from plasma_parameter_calculator import *"
   ]
  },
  {
   "cell_type": "code",
   "execution_count": 16,
   "metadata": {
    "collapsed": false
   },
   "outputs": [],
   "source": [
    "layer_p={'A':12,'Z':6,'n_e':6e17,'T_e': 100,'T_i':550,'B': 3, 'V':50e5,'L':0.725}\n",
    "flow_p={'A':12,'Z':4,'n_e':3e17,'T_e': 15,'T_i':50,'B': 3, 'V':50e5,'L':0.725}\n",
    "layer=Plasma(**layer_p)\n",
    "flow=Plasma(**flow_p)"
   ]
  },
  {
   "cell_type": "code",
   "execution_count": 10,
   "metadata": {
    "collapsed": false
   },
   "outputs": [
    {
     "data": {
      "text/plain": [
       "64.707733443934828"
      ]
     },
     "execution_count": 10,
     "metadata": {},
     "output_type": "execute_result"
    }
   ],
   "source": [
    "ambient_p={'A':12,'Z':6,'n_e':6e18,'T_e': 15,'T_i':10,'B': 8, 'V':4e7,'L':0.5}\n",
    "ambient=Plasma(**ambient_p)\n",
    "ambient.Re_M"
   ]
  },
  {
   "cell_type": "code",
   "execution_count": 8,
   "metadata": {
    "collapsed": false
   },
   "outputs": [
    {
     "data": {
      "text/plain": [
       "array(7.648142784690666)"
      ]
     },
     "execution_count": 8,
     "metadata": {},
     "output_type": "execute_result"
    }
   ],
   "source": [
    "layer.col_log_ei"
   ]
  },
  {
   "cell_type": "code",
   "execution_count": 30,
   "metadata": {
    "collapsed": false
   },
   "outputs": [
    {
     "data": {
      "text/plain": [
       "0.52604999579159994"
      ]
     },
     "execution_count": 30,
     "metadata": {},
     "output_type": "execute_result"
    }
   ],
   "source": [
    "flow.M_A**2"
   ]
  },
  {
   "cell_type": "code",
   "execution_count": 12,
   "metadata": {
    "collapsed": false
   },
   "outputs": [
    {
     "data": {
      "text/plain": [
       "1.0771428571428572"
      ]
     },
     "execution_count": 12,
     "metadata": {},
     "output_type": "execute_result"
    }
   ],
   "source": [
    "blob_p={'A':12,'Z':4,'n_e':2e18,'T_e': 20,'T_i':50,'B': 3.5, 'V':50e5,'L':1.35}\n",
    "b=Plasma(**blob_p)\n",
    "b.beta"
   ]
  },
  {
   "cell_type": "code",
   "execution_count": 10,
   "metadata": {
    "collapsed": false
   },
   "outputs": [
    {
     "data": {
      "text/plain": [
       "array(5.920145119671474)"
      ]
     },
     "execution_count": 10,
     "metadata": {},
     "output_type": "execute_result"
    }
   ],
   "source": [
    "al_bc={'A':28,'Z':7.4,'n_e':8e17,'T_e': 40,'T_i':100,'B': 2, 'V':50e5,'L':0.725}\n",
    "al_ac={'A':28,'Z':5.7,'n_e':2e18,'T_e': 20,'T_i':100,'B': 2, 'V':50e5,'L':0.7}\n",
    "\n",
    "a=Plasma(**al_bc)\n",
    "a.col_log_ei"
   ]
  },
  {
   "cell_type": "code",
   "execution_count": 10,
   "metadata": {
    "collapsed": false
   },
   "outputs": [
    {
     "data": {
      "text/plain": [
       "1.4456774826475982"
      ]
     },
     "execution_count": 10,
     "metadata": {},
     "output_type": "execute_result"
    }
   ],
   "source": [
    "layer.visc/(layer.D_M/2)"
   ]
  },
  {
   "cell_type": "code",
   "execution_count": null,
   "metadata": {
    "collapsed": true
   },
   "outputs": [],
   "source": [
    "#The temperature and density of background particles b and the velocity of test particles a are the important quantities,\n",
    "#along with m and Z for both particles.\n",
    "C=Particle(m=12, Z=6, T=500, v=None,n=6e17/6)\n",
    "Al=Particle(m=27, Z=5, T=20, v=None,n=2e18/5)\n",
    "W=Particle(m=138, Z=12, T=20e3, v=3e6,n=1e16)\n",
    "el=Particle(m=m_e, Z=-1, T=100, v=None,n=6e17)\n",
    "l_slowing(el, C)*1e4"
   ]
  }
 ],
 "metadata": {
  "anaconda-cloud": {},
  "kernelspec": {
   "display_name": "Python [default]",
   "language": "python",
   "name": "python3"
  },
  "language_info": {
   "codemirror_mode": {
    "name": "ipython",
    "version": 3
   },
   "file_extension": ".py",
   "mimetype": "text/x-python",
   "name": "python",
   "nbconvert_exporter": "python",
   "pygments_lexer": "ipython3",
   "version": "3.5.2"
  }
 },
 "nbformat": 4,
 "nbformat_minor": 0
}
