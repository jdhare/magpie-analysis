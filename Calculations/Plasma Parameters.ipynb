{
 "cells": [
  {
   "cell_type": "code",
   "execution_count": 1,
   "metadata": {
    "collapsed": true
   },
   "outputs": [],
   "source": [
    "from plasma_parameter_calculator import *"
   ]
  },
  {
   "cell_type": "code",
   "execution_count": 3,
   "metadata": {
    "collapsed": false
   },
   "outputs": [],
   "source": [
    "layer_p={'A':12,'Z':6,'n_e':6e17,'T_e': 100,'T_i':550,'B': 3, 'V':50e5,'L':0.725}\n",
    "flow_p={'A':12,'Z':4,'n_e':3e17,'T_e': 15,'T_i':50,'B': 3, 'V':50e5,'L':0.725}\n",
    "layer=Plasma(**layer_p)\n",
    "flow=Plasma(**flow_p)"
   ]
  },
  {
   "cell_type": "code",
   "execution_count": 28,
   "metadata": {
    "collapsed": false
   },
   "outputs": [
    {
     "data": {
      "text/plain": [
       "0.18486889080604887"
      ]
     },
     "execution_count": 28,
     "metadata": {},
     "output_type": "execute_result"
    }
   ],
   "source": [
    "(flow.M_A/flow.M_S)**2"
   ]
  },
  {
   "cell_type": "code",
   "execution_count": 8,
   "metadata": {
    "collapsed": false
   },
   "outputs": [
    {
     "data": {
      "text/plain": [
       "array(7.648142784690666)"
      ]
     },
     "execution_count": 8,
     "metadata": {},
     "output_type": "execute_result"
    }
   ],
   "source": [
    "layer.col_log_ei"
   ]
  },
  {
   "cell_type": "code",
   "execution_count": 30,
   "metadata": {
    "collapsed": false
   },
   "outputs": [
    {
     "data": {
      "text/plain": [
       "0.52604999579159994"
      ]
     },
     "execution_count": 30,
     "metadata": {},
     "output_type": "execute_result"
    }
   ],
   "source": [
    "flow.M_A**2"
   ]
  },
  {
   "cell_type": "code",
   "execution_count": 12,
   "metadata": {
    "collapsed": false
   },
   "outputs": [
    {
     "data": {
      "text/plain": [
       "1.0771428571428572"
      ]
     },
     "execution_count": 12,
     "metadata": {},
     "output_type": "execute_result"
    }
   ],
   "source": [
    "blob_p={'A':12,'Z':4,'n_e':2e18,'T_e': 20,'T_i':50,'B': 3.5, 'V':50e5,'L':1.35}\n",
    "b=Plasma(**blob_p)\n",
    "b.beta"
   ]
  },
  {
   "cell_type": "code",
   "execution_count": 2,
   "metadata": {
    "collapsed": false
   },
   "outputs": [
    {
     "data": {
      "text/plain": [
       "18.178117793765782"
      ]
     },
     "execution_count": 2,
     "metadata": {},
     "output_type": "execute_result"
    }
   ],
   "source": [
    "al_l={'A':28,'Z':7,'n_e':2e18,'T_e': 43,'T_i':100,'B': 2, 'V':50e5,'L':1.35}\n",
    "a=Plasma(**al_l)\n",
    "a.S"
   ]
  },
  {
   "cell_type": "code",
   "execution_count": 10,
   "metadata": {
    "collapsed": false
   },
   "outputs": [
    {
     "data": {
      "text/plain": [
       "1.4456774826475982"
      ]
     },
     "execution_count": 10,
     "metadata": {},
     "output_type": "execute_result"
    }
   ],
   "source": [
    "layer.visc/(layer.D_M/2)"
   ]
  },
  {
   "cell_type": "code",
   "execution_count": null,
   "metadata": {
    "collapsed": true
   },
   "outputs": [],
   "source": [
    "#The temperature and density of background particles b and the velocity of test particles a are the important quantities,\n",
    "#along with m and Z for both particles.\n",
    "C=Particle(m=12, Z=6, T=500, v=None,n=6e17/6)\n",
    "Al=Particle(m=27, Z=5, T=20, v=None,n=2e18/5)\n",
    "W=Particle(m=138, Z=12, T=20e3, v=3e6,n=1e16)\n",
    "el=Particle(m=m_e, Z=-1, T=100, v=None,n=6e17)\n",
    "l_slowing(el, C)*1e4"
   ]
  }
 ],
 "metadata": {
  "kernelspec": {
   "display_name": "Python [default]",
   "language": "python",
   "name": "python3"
  },
  "language_info": {
   "codemirror_mode": {
    "name": "ipython",
    "version": 3
   },
   "file_extension": ".py",
   "mimetype": "text/x-python",
   "name": "python",
   "nbconvert_exporter": "python",
   "pygments_lexer": "ipython3",
   "version": "3.5.2"
  }
 },
 "nbformat": 4,
 "nbformat_minor": 0
}
