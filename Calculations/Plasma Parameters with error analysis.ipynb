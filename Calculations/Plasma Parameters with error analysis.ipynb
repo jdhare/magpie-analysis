{
 "cells": [
  {
   "cell_type": "code",
   "execution_count": 1,
   "metadata": {
    "collapsed": false
   },
   "outputs": [],
   "source": [
    "from mcerp import N, umath, LogN, Gamma  # N, U, Gamma, Beta, correlate, etc.\n",
    "import numpy as np\n",
    "import locale\n",
    "locale.setlocale(locale.LC_ALL, '') #this lets us put commas every three digits\n",
    "\n",
    "#coefficients for Z=6 from Epperlein and Haines\n",
    "Ap1=3.13\n",
    "Ap0=1.80\n",
    "ap1=6.29\n",
    "ap0=2.79\n",
    "gp1=3.49\n",
    "gp0=8.57\n",
    "g0=8.231\n",
    "cp2=8.96\n",
    "cp1=4.83\n",
    "cp0=1.04\n",
    "Bpp1=1.5\n",
    "Bpp0=3.05\n",
    "bpp2=7.83\n",
    "bpp1=3.48\n",
    "bpp0=0.718\n",
    "\n",
    "#useful function tht really should be built in....rounds to n sig figs\n",
    "round_to_n = lambda x, n: round(x.mean, -int(np.floor(np.log10(np.abs(x.mean)))) + (n - 1)) \n",
    "\n",
    "def str_nsf(x, n):\n",
    "    #returns a string to n significant figures, and nicely formatted too!\n",
    "    x_sig_figs=int(np.floor(np.log10(np.abs(x)))) #sig figs of x\n",
    "    xsf=round_to_n(x,n)\n",
    "    if xsf>=1:\n",
    "        p=locale.format(\"%.0f\",xsf, grouping=True)\n",
    "    else:\n",
    "        p=locale.format(\"%.\"+str(np.abs(x_sig_figs)+n-1)+\"f\",xsf, grouping=True)\n",
    "    return p\n",
    "\n",
    "class Plasma:\n",
    "    #A is m_i/m_p, Z is effective nuclear charge, n_e in cm^-3, T, T_e, T_i in eV, B in Tesla\n",
    "    #V is a charateristic speed in cm/s, L is a length scale in cm\n",
    "    def __init__(self, A, Z, n_e, T=None, T_e=None, T_i=None, B=None, V=None, L=None):\n",
    "        self.T_e=T_e\n",
    "        self.T_i=T_i\n",
    "        self.A=A\n",
    "        self.Z=Z\n",
    "        self.n_e=n_e\n",
    "        self.B=B\n",
    "        self.V=V\n",
    "        self.L=L\n",
    "        self.params()\n",
    "    def params(self):\n",
    "        B=np.abs(self.B*1e4)#convert to gauss for cgs compatibility\n",
    "        Z=self.Z\n",
    "        A=self.A\n",
    "        n_i=self.n_e/Z\n",
    "        n_e=self.n_e\n",
    "        T_i=self.T_i\n",
    "        T_e=self.T_e\n",
    "        V=np.abs(self.V)\n",
    "        #Lots of definitions of the coloumb logarithm\n",
    "        self.col_log_ee=23.5-umath.log(n_e**0.5*T_e**-1.25)-(1e-5+((umath.log(T_e)-2)**2)/16.0)**0.5\n",
    "        self.col_log_ei=col_log_ei(T_e, n_e,Z)\n",
    "        self.col_log_ii=23-umath.log(np.sqrt(2)*n_i**0.5*Z**3*T_i**-1.5)\n",
    "        #frequencies\n",
    "        self.nu_ei=2.91e-6*Z*n_e*self.col_log_ei*T_e**-1.5#electrons on ions\n",
    "        self.nu_ie=4.80e-8*Z**4*A**-0.5*n_i*self.col_log_ei*T_i**-1.5 #ions on electrons\n",
    "        self.om_ce=1.76e7*B\n",
    "        self.om_ci=9.58e3*B*Z/A\n",
    "        self.om_pe=5.64e4*n_e**0.5\n",
    "        self.om_pi=1.32e3*Z*A**-0.5*n_i**0.5\n",
    "        m_i=A*1.66e-24#grams\n",
    "        m_e=9.11e-28#grams\n",
    "        self.nu_eq=1.8e-19*(m_i*m_e)**0.5*Z**2*n_e*self.col_log_ei/(m_i*T_e+m_e*T_i)**1.5\n",
    "        self.tau_e=1/self.nu_eq\n",
    "        #velocities\n",
    "        self.V_te=4.19e7*T_e**0.5\n",
    "        self.V_ti=9.79e5*A**-0.5*T_i**0.5\n",
    "        self.V_S=9.79e5*A**-0.5*(Z*T_e+T_i)**0.5\n",
    "        self.V_A=2.18e11*A**-0.5*n_i**-0.5*B\n",
    "        #length scales\n",
    "        self.la_de=7.43e2*T_e**0.5*n_e**-0.5\n",
    "        self.delta_i=3e10/self.om_pi#ion skin depth\n",
    "        self.delta_e=3e10/self.om_pe#electron skin depth\n",
    "        self.rho_i=self.V_ti/self.om_ci#cm\n",
    "        self.rho_e=self.V_te/self.om_ce#cm\n",
    "        self.mfp_i=self.V_ti/self.nu_ie#cm\n",
    "        self.mfp_e=self.V_te/self.nu_ei#cm\n",
    "        #other\n",
    "        self.eta_perp=1.03e-2*self.Z*self.col_log_ei*self.T_e**-1.5 #Ohm cm\n",
    "        self.sigma_par=0.028*n_e/self.nu_ei#this could be in SI. Probably check before using elsewhere...\n",
    "        self.KE=0.5*m_i*self.V**2*1e-7/1.6e-19#convert to SI (1e-7 ergs) and then to eV (1.6e-19)\n",
    "        self.KE_Therm=self.KE/1.5\n",
    "        self.P_B=B**2/(8*np.pi)*1e-7/1.6e-19#eV per m^-3\n",
    "        self.P_dyn=self.KE*n_i\n",
    "        self.P_therm=n_e*T_e+n_i*T_i#eV per cm^-3\n",
    "        #dimensionless parameters\n",
    "        self.beta=self.P_therm/self.P_B#2.03e-11*(n_e*T_e+n_i*T_i)/B**2#note coefficient is half of NRL as we have Z=/=1\n",
    "        self.beta_kin=self.P_dyn/self.P_B#(2*np.pi*A*1.67e-24*n_i*self.V**2)/(B**2)#CGS formulation\n",
    "        self.i_mag=self.om_ci/self.nu_ie\n",
    "        self.e_mag=self.om_ce/self.nu_ei\n",
    "        self.Rm_old=4e-11*np.pi*self.V*self.L*self.sigma_par#mu_0*sigma*V*L in SI, so some CGS->SI conversion here \n",
    "        self.Rm=1e2*4e-11*np.pi*self.V*self.L/self.eta_perp#mu_0*V*L/eta_perp in SI, so some CGS->SI conversion here \n",
    "        self.Al=self.V_A/self.V #Alfven number\n",
    "        self.S=self.Al*self.Rm #Lundquist number\n",
    "        chi=self.e_mag #this makes life easier for the next equation\n",
    "        self.kappa_c_perp=(gp1*chi+gp0)/(chi**3+cp2*chi**2+cp1*chi+cp0)#Epperlein and Haines\n",
    "        self.kappa_c_par=gp0/cp0#Epperlein and Haines, chi=0\n",
    "        self.chi_perp=self.kappa_c_perp*(m_e*1e-3*self.nu_ei/(1.6e-19*self.T_e))\n",
    "        self.chi_par=self.kappa_c_par*(m_e*1e-3*self.nu_ei/(1.6e-19*self.T_e)) \n",
    "        self.tau_cond_perp=(self.L*1e-2)**2/self.chi_perp #cheeky SI conversions\n",
    "        self.tau_cond_par=(self.L*1e-2)**2/self.chi_par\n",
    "        self.H=self.kappa_c_perp*self.beta*self.e_mag/5.0#Haines number, Hall/Nernst, Joglekar 2014\n",
    "        self.S_N=self.H*self.e_mag #Lundquist Nernst number #Joglekar 2014\n",
    "        self.M_s=V/self.V_S\n",
    "        self.M_a=V/self.V_A\n",
    "    def print_dim_params(self):\n",
    "        im='Ion magnetisation = '+str(round_to_n(self.i_mag,2))\n",
    "        em='Electron magnetisation = '+str(round_to_n(self.e_mag,2))\n",
    "        b='Thermal Beta = '+str(round_to_n(self.beta,2))\n",
    "        br='Kinetic Beta = '+str(round_to_n(self.beta_kin,2))\n",
    "        rm='Magnetic Reynolds Number = '+str(round_to_n(self.Rm,2))\n",
    "        S='Lundquist number = '+str(round_to_n(self.S,2))\n",
    "        H='Haines number = '+str(round_to_n(self.H,2))\n",
    "        m='Mach number = '+str(round_to_n(self.M_s,2))\n",
    "        ma='Mach-Alfven number = '+str(round_to_n(self.M_a,2))\n",
    "\n",
    "        txtstr=im+'\\n'+em+'\\n'+b+'\\n'+br+'\\n'+m+'\\n'+ma+'\\n'+rm+'\\n'+S+'\\n'+H\n",
    "        print(txtstr)\n",
    "\n",
    "def col_log_ei(T_e,n_e,Z):\n",
    "    if T_e<10*Z**2: #see NRL formulary pg 34\n",
    "        col_log=23-umath.log(n_e**0.5*Z*T_e**-1.5)\n",
    "    else:\n",
    "        col_log=24-umath.log(n_e**0.5*T_e**-1.0)\n",
    "    return col_log\n",
    "\n",
    "def Gamma_mu_sig(mu,sig):\n",
    "    k=mu**2/sig**2\n",
    "    theta=sig**2/mu\n",
    "    return Gamma(k, theta)"
   ]
  },
  {
   "cell_type": "code",
   "execution_count": 3,
   "metadata": {
    "collapsed": false
   },
   "outputs": [],
   "source": [
    "Gmu=Gamma_mu_sig\n",
    "p_p={'A':12,'Z':6,'n_e':N(5e17, 0.7e17),'T_e': Gmu(100, 10),'T_i':Gmu(600, 50),'B': Gmu(2.9, 0.5), 'V':N(130e5,5e5),'L':1.0}\n",
    "plas=Plasma(**p_p)"
   ]
  },
  {
   "cell_type": "code",
   "execution_count": null,
   "metadata": {
    "collapsed": true
   },
   "outputs": [],
   "source": []
  },
  {
   "cell_type": "code",
   "execution_count": 4,
   "metadata": {
    "collapsed": false
   },
   "outputs": [
    {
     "name": "stderr",
     "output_type": "stream",
     "text": [
      "C:\\Users\\jdavies\\Anaconda3\\lib\\site-packages\\mcerp-0.11-py3.4.egg\\mcerp\\__init__.py:91: RuntimeWarning: invalid value encountered in double_scalars\n",
      "C:\\Users\\jdavies\\Anaconda3\\lib\\site-packages\\mcerp-0.11-py3.4.egg\\mcerp\\__init__.py:107: RuntimeWarning: invalid value encountered in power\n",
      "C:\\Users\\jdavies\\Anaconda3\\lib\\site-packages\\mcerp-0.11-py3.4.egg\\mcerp\\__init__.py:107: RuntimeWarning: invalid value encountered in double_scalars\n",
      "C:\\Users\\jdavies\\Anaconda3\\lib\\site-packages\\mcerp-0.11-py3.4.egg\\mcerp\\__init__.py:124: RuntimeWarning: invalid value encountered in power\n",
      "C:\\Users\\jdavies\\Anaconda3\\lib\\site-packages\\mcerp-0.11-py3.4.egg\\mcerp\\__init__.py:124: RuntimeWarning: invalid value encountered in double_scalars\n"
     ]
    },
    {
     "data": {
      "text/plain": [
       "uv(nan, nan, nan, nan)"
      ]
     },
     "execution_count": 4,
     "metadata": {},
     "output_type": "execute_result"
    }
   ],
   "source": [
    "plas.S"
   ]
  },
  {
   "cell_type": "code",
   "execution_count": 65,
   "metadata": {
    "collapsed": false
   },
   "outputs": [
    {
     "data": {
      "text/plain": [
       "uv(2.28918092911e-09, 9.567542213e-20, 0.0, 0.0)"
      ]
     },
     "execution_count": 65,
     "metadata": {},
     "output_type": "execute_result"
    }
   ],
   "source": [
    "(plas.L/plas.V_A)/(3.2*(plas.delta_i/plas.L)**(6/13.0)*plas.S**(7/13.0))"
   ]
  },
  {
   "cell_type": "code",
   "execution_count": 70,
   "metadata": {
    "collapsed": false
   },
   "outputs": [
    {
     "data": {
      "text/plain": [
       "uv(1.91597301476, 0.00607663479866, 0.0219426373646, 3.03957420369)"
      ]
     },
     "execution_count": 70,
     "metadata": {},
     "output_type": "execute_result"
    }
   ],
   "source": [
    "0.5*((plas.delta_i/plas.L)**(1/13)*plas.S**(11/26))"
   ]
  },
  {
   "cell_type": "code",
   "execution_count": 76,
   "metadata": {
    "collapsed": false
   },
   "outputs": [
    {
     "data": {
      "image/png": "[encoded data removed]",
      "text/plain": [
       "<matplotlib.figure.Figure at 0x10d6e2a90>"
      ]
     },
     "metadata": {},
     "output_type": "display_data"
    }
   ],
   "source": [
    "p_las={'A':6.5,'Z':3.5,'n_e':N(7e19, 0.5e17),'T_e': N(600, 100),'T_i':Gmu(300, 100),'B': N(50, 0.1), 'V':N(500e5,5e5),'L':0.06}\n",
    "p_al={'A':28,'Z':7.5,'n_e':N(1e18, 0.5e17),'T_e': N(40, 5),'T_i':N(300, 30),'B': N(2, 0.2), 'V':N(60e5,5e5),'L':1.0}\n",
    "p_c={'A':12,'Z':5.6,'n_e':N(4.7e17, 0.5e17),'T_e': Gmu(100, 10),'T_i':Gmu(500, 50),'B': Gmu(2.9, 0.5), 'V':N(40e5,1e5),'L':1.0}\n",
    "p_mrx={'A':2,'Z':2,'n_e':Gmu(4e13,2e13),'T_e': Gmu(10, 5),'T_i':Gmu(10,5),'B': Gmu(0.02,0.005), 'V':Gmu(10e5,1e5),'L':5.0}\n",
    "p_flare={'A':1,'Z':1,'n_e':N(1e11, 0.5e9),'T_e': Gmu(100, 10),'T_i':Gmu(100, 10),'B': Gmu(0.42, 0.01), 'V':N(40e1,1e5),'L':24e5}\n",
    "p_magnetot={'A':1,'Z':1,'n_e':N(5, 0.01),'T_e': N(17, 0.01),'T_i':N(17, 0.01),'B': N(5e-9, 5e-12), 'V':N(450e5,5e5),'L':1e5}"
   ]
  },
  {
   "cell_type": "code",
   "execution_count": 42,
   "metadata": {
    "collapsed": false
   },
   "outputs": [],
   "source": [
    "from scipy.optimize import brentq, minimize"
   ]
  },
  {
   "cell_type": "code",
   "execution_count": 49,
   "metadata": {
    "collapsed": false
   },
   "outputs": [
    {
     "data": {
      "text/plain": [
       "   status: 0\n",
       "      jac: array([  1.52531677e-07])\n",
       "      fun: array([  3.80689102e-09])\n",
       "      nit: 0\n",
       "     nfev: 3\n",
       " hess_inv: array([[1]])\n",
       "        x: array([ 0.1])\n",
       "  success: True\n",
       "     njev: 1\n",
       "  message: 'Optimization terminated successfully.'"
      ]
     },
     "execution_count": 49,
     "metadata": {},
     "output_type": "execute_result"
    }
   ],
   "source": [
    "def f(x):\n",
    "    return np.sin(x)**4/np.cos(x)**2/(4*(1-v)**2/u)\n",
    "minimize(f, x0=0.1)"
   ]
  },
  {
   "cell_type": "code",
   "execution_count": 50,
   "metadata": {
    "collapsed": false
   },
   "outputs": [
    {
     "data": {
      "text/plain": [
       "0.0"
      ]
     },
     "execution_count": 50,
     "metadata": {},
     "output_type": "execute_result"
    }
   ],
   "source": [
    "brentq(f, 0, np.pi/2)"
   ]
  },
  {
   "cell_type": "code",
   "execution_count": 46,
   "metadata": {
    "collapsed": false
   },
   "outputs": [
    {
     "data": {
      "text/plain": [
       "4.4237822294235229e-09"
      ]
     },
     "execution_count": 46,
     "metadata": {},
     "output_type": "execute_result"
    }
   ],
   "source": [
    "f(brentq(f, 0, np.pi/2))"
   ]
  },
  {
   "cell_type": "code",
   "execution_count": 47,
   "metadata": {
    "collapsed": false
   },
   "outputs": [
    {
     "data": {
      "text/plain": [
       "0.006159486694875538"
      ]
     },
     "execution_count": 47,
     "metadata": {},
     "output_type": "execute_result"
    }
   ],
   "source": [
    "a_max=brentq(f, 0, np.pi/2)\n",
    "np.pi/2-a_max"
   ]
  },
  {
   "cell_type": "code",
   "execution_count": 56,
   "metadata": {
    "collapsed": false
   },
   "outputs": [
    {
     "data": {
      "text/plain": [
       "0.0037313349045700584"
      ]
     },
     "execution_count": 56,
     "metadata": {},
     "output_type": "execute_result"
    }
   ],
   "source": [
    "f(np.pi/2-0.1)"
   ]
  },
  {
   "cell_type": "code",
   "execution_count": null,
   "metadata": {
    "collapsed": true
   },
   "outputs": [],
   "source": []
  }
 ],
 "metadata": {
  "kernelspec": {
   "display_name": "Python 3",
   "language": "python",
   "name": "python3"
  },
  "language_info": {
   "codemirror_mode": {
    "name": "ipython",
    "version": 3
   },
   "file_extension": ".py",
   "mimetype": "text/x-python",
   "name": "python",
   "nbconvert_exporter": "python",
   "pygments_lexer": "ipython3",
   "version": "3.4.4"
  },
  "name": "Error analysis.ipynb"
 },
 "nbformat": 4,
 "nbformat_minor": 0
}
