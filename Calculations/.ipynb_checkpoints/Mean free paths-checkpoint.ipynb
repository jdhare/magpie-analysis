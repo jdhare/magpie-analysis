{
 "cells": [
  {
   "cell_type": "code",
   "execution_count": 1,
   "metadata": {
    "collapsed": false
   },
   "outputs": [],
   "source": [
    "%matplotlib inline\n",
    "import numpy as np\n",
    "import matplotlib.pyplot as plt\n",
    "import scipy.constants as c\n",
    "m_e=c.m_e/c.m_u"
   ]
  },
  {
   "cell_type": "code",
   "execution_count": null,
   "metadata": {
    "collapsed": false
   },
   "outputs": [],
   "source": [
    "#CGS for v, n, eV for T, m in atomic mass units\n",
    "#test particle a slows on a field of particles b\n",
    "#nu_ab is not equal to nu_ba!!!\n",
    "class Particle:\n",
    "    def __init__(self, m, Z, v, T, n):\n",
    "        self.m=float(m)\n",
    "        self.m_g=m*c.m_u*1e3 #convert to grams\n",
    "        self.T_erg=T*c.e*1e7#convert to ergs\n",
    "        self.T=float(T)\n",
    "        self.Z=Z\n",
    "        self.v_T=np.sqrt(self.T_erg/self.m_g)\n",
    "        if v==None:\n",
    "            self.v=self.v_T\n",
    "        else:\n",
    "            self.v=float(v)\n",
    "        self.n=float(n)\n",
    "        self.e=Z*4.8e-10#in stat coloumbs\n",
    "        \n",
    "def x_ab(a,b):\n",
    "    return b.m_g*a.v**2/(2*b.T_erg)\n",
    "    \n",
    "def col_log(a,b, T_e=None):\n",
    "    if a.Z is -1 and b.Z is -1:#electron electron\n",
    "        print('Electron-Electron')\n",
    "        return 23.5-np.log(a.n**0.5*a.T**-1.25)-(1e-5+((np.log(a.T-2))**2)/16.0)**0.5\n",
    "    if a.Z is not -1 and b.Z is not -1: #ion ion\n",
    "        v_D=np.abs(a.v-b.v)       \n",
    "        if a.v_T<v_D and b.v_T<v_D:\n",
    "            print('Counter-streaming ions')\n",
    "            beta_D=v_D/(c.c*1e2)\n",
    "            n_e=a.Z*a.n+b.Z*b.n\n",
    "            return 43-np.log(a.Z*b.Z*(a.m+b.m)/(a.m*b.m*beta_D**2)*(n_e/T_e)**0.5)\n",
    "        else:\n",
    "            print('Mixed ion-ion')\n",
    "            return 23-np.log(a.Z*b.Z*(a.m+b.m)/(a.m*a.T+b.m*b.T)*(a.n*a.Z**2/a.T+b.n*b.Z**2/b.T)**0.5)\n",
    "    else: #electron ion\n",
    "        if a.Z is -1:\n",
    "            el=a\n",
    "            io=b\n",
    "            print('b is ion, a is electron')\n",
    "        else:\n",
    "            el=b\n",
    "            io=a\n",
    "            print('a is ion, b is electron')\n",
    "        #Define the three 'decision temperatures'\n",
    "        Te=el.T\n",
    "        Ti=io.T*el.m/io.m\n",
    "        TZ=10*io.Z**2\n",
    "        if Ti<Te and Te<TZ: #see NRL formulary pg 34\n",
    "            print('Ion-Electron, T_i*m_e/m_i<T_e<10 Z^2')\n",
    "            return 23-np.log(el.n**0.5*io.Z*el.T**-1.5)\n",
    "        elif Ti<TZ and TZ<Te:\n",
    "            print('Ion-Electron, T_i*m_e/m_i<10 Z^2<T_e')\n",
    "            return 24-np.log(el.n**0.5*el.T**-1.0)\n",
    "        elif Tie<io.Z*Ti:\n",
    "            print('Ion-Electron, T_i*m_e/m_i<10 Z^2<T_e')\n",
    "            return 30-np.log(io.n**0.5*io.T**-1.5*io.Z**2/io.m)\n",
    "        else:\n",
    "            print('Ion-Electron: Whoops! You broke Physics!!!')\n",
    "            return 2\n",
    "\n",
    "        \n",
    "def nu_0(a,b, T_e=None):\n",
    "    return 4*np.pi*a.e**2*b.e**2*col_log(a,b, T_e)*b.n/(a.m_g**2*np.abs(a.v)**3)\n",
    "\n",
    "def psi(x, steps=1e3):\n",
    "    t=np.linspace(0, x, steps)\n",
    "    integrand=t**0.5*np.exp(-t)\n",
    "    return 2/np.sqrt(np.pi)*np.trapz(integrand, x=t)\n",
    "\n",
    "def psi_prime(x):\n",
    "    return 2/np.sqrt(np.pi)*x**0.5*np.exp(-x)\n",
    "\n",
    "def nu_slowing(a,b, T_e=None):\n",
    "    xab=x_ab(a,b)\n",
    "    pab=psi(xab)\n",
    "    return (1+a.m/b.m)*pab*nu_0(a,b, T_e)\n",
    "\n",
    "def nu_transverse(a,b, T_e=None):\n",
    "    xab=x_ab(a,b)\n",
    "    pab=psi(xab)\n",
    "    ppab=psi_prime(xab)\n",
    "    return 2*((1-1/(2*xab))*pab+ppab)*nu_0(a,b, T_e)\n",
    "\n",
    "def nu_parallel(a,b, T_e=None):\n",
    "    xab=x_ab(a,b)\n",
    "    pab=psi(xab)\n",
    "    return (pab/xab)*nu_0(a,b, T_e)\n",
    "\n",
    "def nu_energy(a,b, T_e=None):\n",
    "    xab=x_ab(a,b)\n",
    "    pab=psi(xab)\n",
    "    ppab=psi_prime(xab)\n",
    "    return 2*((a.m/b.m)*pab-ppab)*nu_0(a,b, T_e)\n",
    "\n",
    "def l_slowing(a,b, T_e=None):\n",
    "    return a.v/nu_slowing(a,b,T_e)\n",
    "\n",
    "def l_parallel(a,b, T_e=None):\n",
    "    return a.v/nu_parallel(a,b,T_e)\n",
    "\n",
    "def l_transverse(a,b, T_e=None):\n",
    "    return a.v/nu_transverse(a,b,T_e)\n",
    "\n",
    "def l_energy(a,b, T_e=None):\n",
    "    return a.v/nu_energy(a,b,T_e)\n",
    "    "
   ]
  },
  {
   "cell_type": "markdown",
   "metadata": {},
   "source": [
    "# Calculate collision frequencies and lengths"
   ]
  },
  {
   "cell_type": "code",
   "execution_count": 3,
   "metadata": {
    "collapsed": false
   },
   "outputs": [
    {
     "name": "stdout",
     "output_type": "stream",
     "text": [
      "b is ion, a is electron\n",
      "Ion-Electron, T_i*m_e/m_i<T_e<10 Z^2\n"
     ]
    },
    {
     "data": {
      "text/plain": [
       "6.3323676743252917e-08"
      ]
     },
     "execution_count": 3,
     "metadata": {},
     "output_type": "execute_result"
    }
   ],
   "source": [
    "#The temperature and density of background particles b and the velocity of test particles a are the important quantities,\n",
    "#along with m and Z for both particles.\n",
    "C=Particle(m=12, Z=6, T=600, v=None,n=6e17/6)\n",
    "Al=Particle(m=27, Z=5, T=20, v=None,n=2e18/5)\n",
    "W=Particle(m=138, Z=12, T=20e3, v=3e6,n=1e16)\n",
    "el=Particle(m=m_e, Z=-1, T=100, v=None,n=6e17)\n",
    "1/nu_energy(el, C)"
   ]
  },
  {
   "cell_type": "code",
   "execution_count": 5,
   "metadata": {
    "collapsed": false
   },
   "outputs": [
    {
     "name": "stdout",
     "output_type": "stream",
     "text": [
      "a is ion, b is electron\n",
      "Ion-Electron, T_i*m_e/m_i<10 Z^2<T_e\n"
     ]
    },
    {
     "data": {
      "text/plain": [
       "-1.3837480559623298e-07"
      ]
     },
     "execution_count": 5,
     "metadata": {},
     "output_type": "execute_result"
    }
   ],
   "source": [
    "CH2=Particle(m=6.5, Z=3.5, T=450, v=None,n=6e17/6)\n",
    "el=Particle(m=m_e, Z=-1, T=450, v=None,n=6e17)\n",
    "1/nu_energy(C,el)"
   ]
  },
  {
   "cell_type": "code",
   "execution_count": 14,
   "metadata": {
    "collapsed": false
   },
   "outputs": [
    {
     "data": {
      "text/plain": [
       "2.5239212010447666e-07"
      ]
     },
     "execution_count": 14,
     "metadata": {},
     "output_type": "execute_result"
    }
   ],
   "source": [
    "tau_e=1/(2.91e-6*6e17*5*100**-1.5)\n",
    "tau_ei_E=12*c.m_p/(2*c.m_e)*tau_e\n",
    "600/(6*(600-100))*tau_ei_E"
   ]
  },
  {
   "cell_type": "markdown",
   "metadata": {},
   "source": [
    "# Finding Critical Velocity for Energy Loss/Gain"
   ]
  },
  {
   "cell_type": "code",
   "execution_count": 114,
   "metadata": {
    "collapsed": false
   },
   "outputs": [
    {
     "data": {
      "text/plain": [
       "[<matplotlib.lines.Line2D at 0x7f384b3f2ed0>]"
      ]
     },
     "execution_count": 114,
     "metadata": {},
     "output_type": "execute_result"
    },
    {
     "data": {
      "image/png": "[encoded data removed]",
      "text/plain": [
       "<matplotlib.figure.Figure at 0x7f384b7be150>"
      ]
     },
     "metadata": {},
     "output_type": "display_data"
    }
   ],
   "source": [
    "x=np.linspace(0,1e-4,1e3) #adjust second argument to get range in which we can determine x_star easily.\n",
    "vp=np.vectorize(psi)\n",
    "diff=(a.m/b.m)*vp(x,steps=1e5)-psi_prime(x)\n",
    "plt.plot(x, diff, '--')"
   ]
  },
  {
   "cell_type": "code",
   "execution_count": 118,
   "metadata": {
    "collapsed": false
   },
   "outputs": [
    {
     "name": "stdout",
     "output_type": "stream",
     "text": [
      "1554193.25607\n"
     ]
    }
   ],
   "source": [
    "cross_over_index=np.where(diff>0)[0][0]\n",
    "x_star=x[cross_over_index]\n",
    "e_star=b.T_erg*x_star*(a.m/b.m)\n",
    "v_star=np.sqrt(2*e_star/a.m_g)\n",
    "print v_star"
   ]
  },
  {
   "cell_type": "code",
   "execution_count": 165,
   "metadata": {
    "collapsed": false
   },
   "outputs": [
    {
     "data": {
      "text/plain": [
       "1.0003246512048192"
      ]
     },
     "execution_count": 165,
     "metadata": {},
     "output_type": "execute_result"
    }
   ],
   "source": [
    "C.m_g/1.66e-24/12"
   ]
  },
  {
   "cell_type": "code",
   "execution_count": null,
   "metadata": {
    "collapsed": true
   },
   "outputs": [],
   "source": []
  }
 ],
 "metadata": {
  "anaconda-cloud": {},
  "kernelspec": {
   "display_name": "Python [default]",
   "language": "python",
   "name": "python3"
  },
  "language_info": {
   "codemirror_mode": {
    "name": "ipython",
    "version": 3
   },
   "file_extension": ".py",
   "mimetype": "text/x-python",
   "name": "python",
   "nbconvert_exporter": "python",
   "pygments_lexer": "ipython3",
   "version": "3.5.2"
  },
  "name": "Mean free paths.ipynb"
 },
 "nbformat": 4,
 "nbformat_minor": 0
}
